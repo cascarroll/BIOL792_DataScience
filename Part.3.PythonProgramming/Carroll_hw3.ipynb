{
 "cells": [
  {
   "cell_type": "markdown",
   "metadata": {},
   "source": [
    "# Jypyter Notebooks and Python Refresh Homework 3\n",
    "We are going to do the Python Refresh Homework in a juypyter Notebook. In this homework we will review the basic principles of python programming. You will work through a few questions and build some scripts. You will need the Bloom et al Dataset found in this repository. For each question add a cell to put your answer in either as a text cell or a code cell following the question.\n",
    "\n",
    "### Markdown\n",
    "Here is a [markdown refresh](https://programminghistorian.org/en/lessons/getting-started-with-markdown)\n",
    "\n",
    "### General concepts to refresh and lessons to review if you need them:\n",
    "\n",
    "Here is a nice [Python_Refresh](https://pythonforbiologists.com/introduction) that goes over the majority of the basic python commands.\n",
    "\n",
    "Remember these Primers from Last Semester\n",
    "\n",
    "[Python_Primer1](https://github.com/tparchman/BIOL792_course_site/blob/master/week6_pythonI/python_1_primer.md) \n",
    "\n",
    "[Lists_for_loops](https://github.com/tparchman/BIOL792_course_site/blob/master/week7_pythonII/python_2_primer.md)\n",
    "\n",
    "[Input_Output](https://github.com/tparchman/BIOL792_course_site/blob/master/week8_python3/python_3_primer.md)\n",
    "\n",
    "[Dictionaries](https://github.com/tparchman/BIOL792_course_site/blob/master/week11_python6/primer_python6.md)\n",
    "\n",
    "\n",
    "### Remember these Common commands as you work through this exercise\n",
    "\tdata types\n",
    "\tlists and dictionaries \n",
    "\tif while and for loops\n",
    "\treading files\n",
    "\n"
   ]
  },
  {
   "cell_type": "markdown",
   "metadata": {},
   "source": [
    "## Part I: Questions"
   ]
  },
  {
   "cell_type": "markdown",
   "metadata": {},
   "source": [
    "1.\tName one of the basic building blocks of programming and a small definition."
   ]
  },
  {
   "cell_type": "markdown",
   "metadata": {},
   "source": [
    "Variables are one of the building blocks of programming. They are names that hold some sort of value. We do this all the time in R by assigning variable names to a manipulated object. Example syntax is ```CA.sp <- as(CA, 'Spatial')```.\n",
    "\n",
    "In python it could be as simple as ```x=3```, where x is a variable with a value (3)."
   ]
  },
  {
   "cell_type": "markdown",
   "metadata": {},
   "source": [
    "2.\tMatch the data type to the appropriate data\n",
    "    \n",
    "    **Data type:** string, integer, boolean, floating point\n",
    "    \n",
    "    **Data:** true, 123, 'I am a programmer', 34.63221\n"
   ]
  },
  {
   "cell_type": "markdown",
   "metadata": {},
   "source": [
    "string = 'I am a programmer', integer = 123, boolean = true, floating point = 34.63221"
   ]
  },
  {
   "cell_type": "markdown",
   "metadata": {},
   "source": [
    "3.\tWhat would I get if I did tried to add these to numbers together ```123``` and ```5```.\n",
    "\t\t\n",
    "\t\ta) if the numbers were formatted as strings\n",
    "\t\t\n",
    "\t\tb) if they were formatted as integers"
   ]
  },
  {
   "cell_type": "markdown",
   "metadata": {},
   "source": [
    "a) 1235 b) 128"
   ]
  },
  {
   "cell_type": "markdown",
   "metadata": {},
   "source": [
    "4.\tLists, also called vectors, are one dimensional arrays and are a series of items. From the following list what would the question ```apple_list[3]``` return?  Remember we refer to items in a list by their position. Hint – remember how computers count.\n",
    "\t\t\n",
    "\t\t```apple_list=[‘banana’,’pear’,’kumquat’,’pomegranate’,’passion fruit’]```"
   ]
  },
  {
   "cell_type": "markdown",
   "metadata": {},
   "source": [
    "apple_list[3] = pomegranate"
   ]
  },
  {
   "cell_type": "markdown",
   "metadata": {},
   "source": [
    "5.\tName a difference between lists and dictionaries?"
   ]
  },
  {
   "cell_type": "markdown",
   "metadata": {},
   "source": [
    "Lists are one dimensional arrays, whereas dictionaries are multidimensional arrays that contain keys and values. Lists are ordered, while dictionaries are not."
   ]
  },
  {
   "cell_type": "markdown",
   "metadata": {},
   "source": [
    "6.\tWhat would you get from this question from the following dictionary:  ```fruit_dict[‘pear’]```\n",
    "```\t\t\n",
    "\t\tfruit_dict = {}\n",
    "\t\tfruit_dict[‘apple’]=10\n",
    "\t\tfruit_dict[‘pear’] = 3\n",
    "\t\tfruit_dict[‘walnut’]=216\n",
    "```\n",
    "or in another way\n",
    "\n",
    "\n",
    "```\n",
    "fruit_dict = {\n",
    "    'apple':10,\n",
    "    'pear':3,\n",
    "    'walnut':216,\n",
    "}\n",
    "\n",
    "print(fruit_dict)\n",
    "```\n",
    "\n"
   ]
  },
  {
   "cell_type": "markdown",
   "metadata": {},
   "source": [
    "You would get 3. The value for the key \"pear\" is 3."
   ]
  },
  {
   "cell_type": "markdown",
   "metadata": {},
   "source": [
    "7.\tIn python what does the function ```.replace()``` do?"
   ]
  },
  {
   "cell_type": "markdown",
   "metadata": {},
   "source": [
    "You can use .replace() to replace, for example, characters in a string. If you had a sequence and you wanted to replace the t's with u's, you could use ``` seq.replace(\"t\", \"u\") ```."
   ]
  },
  {
   "cell_type": "markdown",
   "metadata": {},
   "source": [
    "8.\tHow do you print something in python?  For example write a print statement to print “hello world!”"
   ]
  },
  {
   "cell_type": "code",
   "execution_count": 1,
   "metadata": {},
   "outputs": [
    {
     "name": "stdout",
     "output_type": "stream",
     "text": [
      "hello world!\n"
     ]
    }
   ],
   "source": [
    "print(\"hello world!\")"
   ]
  },
  {
   "cell_type": "markdown",
   "metadata": {},
   "source": [
    "9.\tName one place you can go to get help with python?"
   ]
  },
  {
   "cell_type": "markdown",
   "metadata": {},
   "source": [
    "Markdowns from Tom's data science 1 class on github"
   ]
  },
  {
   "cell_type": "markdown",
   "metadata": {},
   "source": [
    "10.\tWhat is an ```if``` statement and when would you use one?"
   ]
  },
  {
   "cell_type": "markdown",
   "metadata": {},
   "source": [
    "An if statement can be used to conditionally perform an action. See the example below."
   ]
  },
  {
   "cell_type": "code",
   "execution_count": 3,
   "metadata": {},
   "outputs": [
    {
     "name": "stdout",
     "output_type": "stream",
     "text": [
      "x is greater than 0\n"
     ]
    }
   ],
   "source": [
    "x = 3\n",
    "\n",
    "if x > 0:\n",
    "    print('x is greater than 0')"
   ]
  },
  {
   "cell_type": "markdown",
   "metadata": {},
   "source": [
    "11.\tFrom this list:  ```container_list = [‘can’,’jar’,’hat’]``` What would be returned from this: ```container_list[0:2]```.  Hint: Remember one number is inclusive and one exclusive."
   ]
  },
  {
   "cell_type": "code",
   "execution_count": 1,
   "metadata": {},
   "outputs": [],
   "source": [
    "container_list = ['can', 'jar', 'hat']"
   ]
  },
  {
   "cell_type": "code",
   "execution_count": 2,
   "metadata": {},
   "outputs": [
    {
     "data": {
      "text/plain": [
       "['can', 'jar']"
      ]
     },
     "execution_count": 2,
     "metadata": {},
     "output_type": "execute_result"
    }
   ],
   "source": [
    "container_list[0:2]"
   ]
  },
  {
   "cell_type": "markdown",
   "metadata": {},
   "source": [
    "The way this was explained to me, when you have numbers in brackets like that, the different positions are [start:stop:step]. So, if you put 2 in the stop position, it stops *before* position 2, which is 'hat', so it prints everything before 'hat'. The third position, step, means the number of skips you make. 1 would be \"print everything, skip nothing\", 2 would be \"every other\", etc."
   ]
  },
  {
   "cell_type": "markdown",
   "metadata": {},
   "source": [
    "12.\tWhat is the difference between an ```if``` statement and a ```while``` loop?\n"
   ]
  },
  {
   "cell_type": "markdown",
   "metadata": {},
   "source": [
    "```if``` statements are used for conditional decision making. When we write an ```if``` statement, in pseudocode we mean \"if something is true, do something, but if it is false, go on to the rest of the code\". ```while``` loops are used to iterate through something as long as the condition is met (or the statement is true), and exits the loop as soon as the conditions are not met."
   ]
  },
  {
   "cell_type": "markdown",
   "metadata": {},
   "source": [
    "13.\tWhat would you get with the command ```fruit_dict.keys()```  after entering this dictionary:  \n",
    "\t\tfruit_dict = {}\n",
    "\t\tfruit_dict[‘apple’]=10\n",
    "\t\tfruit_dict[‘pear’] = 3\n",
    "\t\tfruit_dict[‘walnut’]=216"
   ]
  },
  {
   "cell_type": "markdown",
   "metadata": {},
   "source": [
    "You would get ```dict_keys(['apple', 'pear', 'walnut'])```"
   ]
  },
  {
   "cell_type": "markdown",
   "metadata": {},
   "source": [
    "14.\tIn this statement: ```InFileName = open(InFileName, ‘r’)``` what does the ‘r’ indicate ?"
   ]
  },
  {
   "cell_type": "markdown",
   "metadata": {},
   "source": [
    "The r means \"read\". You are opening a file connection to read something into your program."
   ]
  },
  {
   "cell_type": "markdown",
   "metadata": {},
   "source": [
    "15.\tWhat does this command do? ```Line.strip(‘\\n’)``` why would you use it when printing out lines to the screen?"
   ]
  },
  {
   "cell_type": "markdown",
   "metadata": {},
   "source": [
    "That command gets rid of line endings. Line endings are special characters that the computer reads as strings. If you read in a csv, for example, and your last column is made up of integers, but they have line endings, the computer will interpret them as strings and not integers."
   ]
  },
  {
   "cell_type": "markdown",
   "metadata": {},
   "source": [
    "16.\tHow would you split a line from a csv file into a list"
   ]
  },
  {
   "cell_type": "markdown",
   "metadata": {},
   "source": [
    "```line.split(\",\")```"
   ]
  },
  {
   "cell_type": "markdown",
   "metadata": {},
   "source": [
    "## Part II:  Practice Scripts\n",
    "Below each question write the name of the script so I can find them. All scripts should be documented with in-line documentation."
   ]
  },
  {
   "cell_type": "markdown",
   "metadata": {},
   "source": [
    "1.\tCreate a documented python script that would \n",
    "\n",
    "\t\t**a.** take this number 112345678911234566 and count the number of 2s in the string and print out the number. \n",
    "\n",
    "\t\t**b.** take a sentence from user input, turn it all to lowercase letters and remove the spaces and count the length and print out the length.  You choose the sentence. \n"
   ]
  },
  {
   "cell_type": "markdown",
   "metadata": {},
   "source": [
    "a)"
   ]
  },
  {
   "cell_type": "code",
   "execution_count": 63,
   "metadata": {},
   "outputs": [
    {
     "name": "stdout",
     "output_type": "stream",
     "text": [
      "['1', '1', '2', '3', '4', '5', '6', '7', '8', '9', '1', '1', '2', '3', '4', '5', '6', '6']\n",
      "2\n"
     ]
    }
   ],
   "source": [
    "num = \"112345678911234566\"\n",
    "numList = list(num)\n",
    "print(numList)\n",
    "ctr = 0\n",
    "\n",
    "for number in numList:\n",
    "    if number==('2'):\n",
    "        ctr+=1\n",
    "print(ctr)"
   ]
  },
  {
   "cell_type": "markdown",
   "metadata": {},
   "source": [
    "b)"
   ]
  },
  {
   "cell_type": "code",
   "execution_count": 69,
   "metadata": {},
   "outputs": [
    {
     "name": "stdout",
     "output_type": "stream",
     "text": [
      "Give me a sentence:Coming out of my cage and I've been doing just fine\n",
      "coming out of my cage and i've been doing just fine\n",
      "ComingoutofmycageandI'vebeendoingjustfine\n"
     ]
    },
    {
     "data": {
      "text/plain": [
       "41"
      ]
     },
     "execution_count": 69,
     "metadata": {},
     "output_type": "execute_result"
    }
   ],
   "source": [
    "s=input(\"Give me a sentence:\")\n",
    "str(s)\n",
    "\n",
    "allLower = s.lower()\n",
    "print(allLower)\n",
    "noSpace = s.replace(\" \", \"\")\n",
    "print(noSpace)\n",
    "len(noSpace)"
   ]
  },
  {
   "cell_type": "markdown",
   "metadata": {},
   "source": [
    "2.\tCreate a documented python script that will do the following two things. For each task, first write the pseudocode, comment out the pseudocode and beneath the pseudocode write the script.\n",
    "\n",
    "\t\t**a.** Create a list of numbers (any numbers you like). Then loop through the items in the list adding 1 to every number and print those numbers.\n",
    "\n",
    "\t\t**b.** Create a dictionary of animals and their sizes (make up whatever you want). Print out the keys of the dictionary. Make a list of all the animals and then write an if else statement to print out the animal name and the word “big” if the weight is over 20 grams and the word “small” if the weight is less than 20 grams. "
   ]
  },
  {
   "cell_type": "markdown",
   "metadata": {},
   "source": [
    "a)"
   ]
  },
  {
   "cell_type": "code",
   "execution_count": 27,
   "metadata": {},
   "outputs": [
    {
     "name": "stdout",
     "output_type": "stream",
     "text": [
      "2\n",
      "5\n",
      "10\n",
      "26\n",
      "37\n",
      "50\n",
      "65\n",
      "82\n",
      "101\n",
      "122\n",
      "145\n"
     ]
    }
   ],
   "source": [
    "#I want to create a list of numbers\n",
    "#Then I want to use a for loop to iterate through all of the numbers and add one to them\n",
    "#Finally, I want to print that list of numbers\n",
    "\n",
    "numList = (1, 4, 9, 25, 36, 49, 64, 81, 100, 121, 144)\n",
    "\n",
    "for num in numList:\n",
    "    print(num+1)"
   ]
  },
  {
   "cell_type": "markdown",
   "metadata": {},
   "source": [
    "b)"
   ]
  },
  {
   "cell_type": "code",
   "execution_count": 70,
   "metadata": {},
   "outputs": [
    {
     "name": "stdout",
     "output_type": "stream",
     "text": [
      "skipper\n",
      "fly\n",
      "scarab\n",
      "gecko\n",
      "mouse\n",
      "rabbit\n",
      "small\n",
      "small\n",
      "small\n",
      "big\n",
      "big\n",
      "big\n"
     ]
    }
   ],
   "source": [
    "#First, I want to make a dictionary where keys are animals and values are mass\n",
    "#Next, I want to iterate through the list with a for loop and print all the keys only\n",
    "#Finally, I want to use an if/else statement to print \"big\"(>20) or \"small\"(<20) depending on animal mass\n",
    "\n",
    "AnimalMass={\n",
    "    'skipper':5,\n",
    "    'fly':7,\n",
    "    'scarab':10,\n",
    "    'gecko':40,\n",
    "    'mouse':50,\n",
    "    'rabbit':100\n",
    "}\n",
    "for key in AnimalMass.keys():\n",
    "    print(key)\n",
    "\n",
    "for value in AnimalMass.values():\n",
    "    if value < 20:\n",
    "        print('small')\n",
    "    else:\n",
    "        print('big')\n"
   ]
  },
  {
   "cell_type": "markdown",
   "metadata": {},
   "source": [
    "3.\tCreate a documented python script that will open up the file “Bloom_etal_2018_Reduced_Dataset”.  Read through the file and print out the taxon name and their diadromous status. Add up all of the log body sizes and print out the total log body size for all the individuals in the file.  "
   ]
  },
  {
   "cell_type": "code",
   "execution_count": 78,
   "metadata": {},
   "outputs": [
    {
     "name": "stdout",
     "output_type": "stream",
     "text": [
      "{'\\ufefftaxa': 'Reg', 'Alosa_alabamae': 'diadromous', 'Alosa_alosa': 'diadromous', 'Alosa_fallax': 'diadromous', 'Alosa_mediocris': 'diadromous', 'Alosa_pseudoharengus': 'diadromous', 'Alosa_sapidissima': 'diadromous', 'Amazonsprattus_scintilla': 'non-diadromous', 'Anchoa_chamensis': 'non-diadromous', 'Anchoa_cubana': 'non-diadromous', 'Anchoa_delicatissima': 'non-diadromous', 'Anchoa_lamprotaenia': 'non-diadromous', 'Anchoa_lyolepis': 'non-diadromous', 'Anchoa_parva': 'non-diadromous', 'Anchoa_schofieldi': 'non-diadromous', 'Anchovia_surinamensis': 'non-diadromous', 'Anchoviella_balboae': 'non-diadromous', 'Anchoviella_brevirostris': 'non-diadromous', 'Anchoviella_jamesi': 'non-diadromous', 'Anchoviella_lepidentostole': 'diadromous', 'Anchoviella_manamensis': 'non-diadromous', 'Anodontostoma_chacunda': 'diadromous', 'Cetengraulis_edentulus': 'non-diadromous', 'Chirocentrodon_bleekerianus': 'non-diadromous', 'Clupeichthys_perakensis': 'non-diadromous', 'Clupeoides_borneensis': 'non-diadromous', 'Coilia_nasus': 'diadromous', 'Ehirava_fluviatilis': 'non-diadromous', 'Encrasicholina_devisi': 'non-diadromous', 'Engraulis_eurystole': 'non-diadromous', 'Escualosa_thoracata': 'non-diadromous', 'Ethmalosa_fimbriata': 'diadromous', 'Gilchristella_aestuaria': 'non-diadromous', 'Hilsa_kelee': 'diadromous', 'Hyperlophus_vittatus': 'non-diadromous', 'Jenkinsia_lamprotaenia': 'non-diadromous', 'Microthrissa_congica': 'non-diadromous', 'Pellona_harroweri': 'non-diadromous', 'Pellonula_leonensis': 'diadromous', 'Pellonula_vorax': 'diadromous', 'Potamalosa_richmondia': 'diadromous', 'Ramnogaster_sp': 'non-diadromous', 'Rhinosardinia_bahiensis': 'non-diadromous', 'Sauvagella_robusta': 'non-diadromous', 'Sierrathrissa_leonensis': 'non-diadromous', 'Spratelloides_delicatulus': 'non-diadromous', 'Stolephorus_waitei': 'non-diadromous', 'Stolothrissa_tanganicae': 'non-diadromous', 'Sundasalanx_mekongensis': 'non-diadromous', 'Tenualosa_ilisha': 'diadromous', 'Thryssa_cf_dussumieri': 'non-diadromous'}\n",
      "0\n"
     ]
    }
   ],
   "source": [
    "import csv #importing the csv package - I know pandas would be more helpful but I missed that class last semester\n",
    "\n",
    "with open('Bloom_etal_2018_Reduced_Dataset.csv', mode='r') as infile: #opens up a file connection to the csv\n",
    "    reader = csv.reader(infile) #reads in the file\n",
    "    fishDict = {rows[0]:rows[3] for rows in reader} #makes a dictionary out of the fish species/diadromous status columns\n",
    "    bodyList=(sum(rows[1] for rows in reader)) #trying to sum up the log body size (this line doesn't work)\n",
    "    \n",
    "print(fishDict) #prints the dictionary, unfortunately includes the header...\n",
    "print(sumBody) #prints as zero "
   ]
  },
  {
   "cell_type": "code",
   "execution_count": null,
   "metadata": {},
   "outputs": [],
   "source": []
  }
 ],
 "metadata": {
  "kernelspec": {
   "display_name": "Python 3 (ipykernel)",
   "language": "python",
   "name": "python3"
  },
  "language_info": {
   "codemirror_mode": {
    "name": "ipython",
    "version": 3
   },
   "file_extension": ".py",
   "mimetype": "text/x-python",
   "name": "python",
   "nbconvert_exporter": "python",
   "pygments_lexer": "ipython3",
   "version": "3.8.8"
  }
 },
 "nbformat": 4,
 "nbformat_minor": 4
}
